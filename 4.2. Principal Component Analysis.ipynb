{
 "cells": [
  {
   "cell_type": "code",
   "execution_count": 1,
   "metadata": {
    "collapsed": false
   },
   "outputs": [],
   "source": [
    "import numpy as np\n",
    "import pandas as pd\n",
    "from sklearn.decomposition import PCA\n",
    "from numpy import corrcoef\n",
    "%matplotlib inline\n",
    "import matplotlib.pyplot as plt"
   ]
  },
  {
   "cell_type": "markdown",
   "metadata": {},
   "source": [
    "## 1"
   ]
  },
  {
   "cell_type": "code",
   "execution_count": 2,
   "metadata": {
    "collapsed": false
   },
   "outputs": [
    {
     "data": {
      "text/plain": [
       "(374, 30)"
      ]
     },
     "execution_count": 2,
     "metadata": {},
     "output_type": "execute_result"
    }
   ],
   "source": [
    "close_prices = pd.read_csv('data/close_prices.csv', index_col='date')\n",
    "close_prices.shape"
   ]
  },
  {
   "cell_type": "code",
   "execution_count": 3,
   "metadata": {
    "collapsed": false
   },
   "outputs": [
    {
     "data": {
      "text/plain": [
       "PCA(copy=True, n_components=10, whiten=False)"
      ]
     },
     "execution_count": 3,
     "metadata": {},
     "output_type": "execute_result"
    }
   ],
   "source": [
    "pca = PCA(n_components=10)\n",
    "pca.fit(close_prices)"
   ]
  },
  {
   "cell_type": "code",
   "execution_count": 30,
   "metadata": {
    "collapsed": false
   },
   "outputs": [
    {
     "name": "stdout",
     "output_type": "stream",
     "text": [
      "(1, 0.73897118271521534)\n",
      "(2, 0.84904287281391777)\n",
      "(3, 0.89899375558370787)\n",
      "(4, 0.92774295378364047)\n"
     ]
    }
   ],
   "source": [
    "for num in range(1, 11):\n",
    "    sum_ = np.sum(pca.explained_variance_ratio_[0:num])\n",
    "    print(num, sum_)\n",
    "    if sum_ > 0.9:\n",
    "        break"
   ]
  },
  {
   "cell_type": "code",
   "execution_count": 24,
   "metadata": {
    "collapsed": false
   },
   "outputs": [
    {
     "name": "stdout",
     "output_type": "stream",
     "text": [
      "(10, 30)\n",
      "(10,)\n"
     ]
    }
   ],
   "source": [
    "print(pca.components_.shape)\n",
    "print(pca.explained_variance_ratio_.shape)"
   ]
  },
  {
   "cell_type": "markdown",
   "metadata": {},
   "source": [
    "## 2"
   ]
  },
  {
   "cell_type": "code",
   "execution_count": 12,
   "metadata": {
    "collapsed": false
   },
   "outputs": [
    {
     "data": {
      "text/plain": [
       "(374, 1)"
      ]
     },
     "execution_count": 12,
     "metadata": {},
     "output_type": "execute_result"
    }
   ],
   "source": [
    "djia_data = pd.read_csv('data/djia_index.csv', index_col='date')\n",
    "djia_data.shape"
   ]
  },
  {
   "cell_type": "code",
   "execution_count": 18,
   "metadata": {
    "collapsed": false
   },
   "outputs": [
    {
     "name": "stdout",
     "output_type": "stream",
     "text": [
      "(374,)\n",
      "(374,)\n",
      "[[ 1.          0.90965222]\n",
      " [ 0.90965222  1.        ]]\n"
     ]
    }
   ],
   "source": [
    "print(pca.transform(close_prices)[:,0].shape)\n",
    "print(djia_data['^DJI'].shape)\n",
    "print(corrcoef(\n",
    "    pca.transform(close_prices)[:, 0], \n",
    "    djia_data['^DJI']\n",
    "))"
   ]
  },
  {
   "cell_type": "markdown",
   "metadata": {},
   "source": [
    "## 3"
   ]
  },
  {
   "cell_type": "code",
   "execution_count": 27,
   "metadata": {
    "collapsed": false
   },
   "outputs": [
    {
     "data": {
      "text/plain": [
       "[(0.016138383984734668, 'AXP'),\n",
       " (0.12064492322861052, 'BA'),\n",
       " (-0.051661271080883038, 'CAT'),\n",
       " (0.050484236916853997, 'CSCO'),\n",
       " (-0.12585993303584916, 'CVX'),\n",
       " (0.11408956671451202, 'DD'),\n",
       " (0.23390628951791717, 'DIS'),\n",
       " (-0.0062051374900815685, 'GE'),\n",
       " (0.25122703209089781, 'GS'),\n",
       " (0.28899602916707412, 'HD'),\n",
       " (-0.26499879525484749, 'IBM'),\n",
       " (0.093132016826405511, 'INTC'),\n",
       " (0.091394840292062948, 'JNJ'),\n",
       " (0.046987934026593507, 'JPM'),\n",
       " (0.029054941715540409, 'KO'),\n",
       " (-0.026106882759563035, 'MCD'),\n",
       " (0.32961558381585238, 'MMM'),\n",
       " (0.071389713288802475, 'MRK'),\n",
       " (0.076229569876511416, 'MSFT'),\n",
       " (0.21188886780132182, 'NKE'),\n",
       " (0.023092294068853495, 'PFE'),\n",
       " (0.077731695391623001, 'PG'),\n",
       " (-0.0072059458950082343, 'T'),\n",
       " (0.18947974464619449, 'TRV'),\n",
       " (0.32156401737619061, 'UNH'),\n",
       " (0.053683487328683235, 'UTX'),\n",
       " (0.57968394574736071, 'V'),\n",
       " (0.00010912222981036018, 'VZ'),\n",
       " (0.087161433382868123, 'WMT'),\n",
       " (-0.04294214199291975, 'XOM')]"
      ]
     },
     "execution_count": 27,
     "metadata": {},
     "output_type": "execute_result"
    }
   ],
   "source": [
    "c0 = list(zip(pca.components_[0], close_prices.columns)) \n",
    "c0"
   ]
  },
  {
   "cell_type": "code",
   "execution_count": 28,
   "metadata": {
    "collapsed": false
   },
   "outputs": [
    {
     "name": "stdout",
     "output_type": "stream",
     "text": [
      "(0.57968394574736071, 'V')\n"
     ]
    }
   ],
   "source": [
    "print(max(c0))"
   ]
  },
  {
   "cell_type": "code",
   "execution_count": null,
   "metadata": {
    "collapsed": true
   },
   "outputs": [],
   "source": []
  }
 ],
 "metadata": {
  "kernelspec": {
   "display_name": "Python 2",
   "language": "python",
   "name": "python2"
  },
  "language_info": {
   "codemirror_mode": {
    "name": "ipython",
    "version": 2
   },
   "file_extension": ".py",
   "mimetype": "text/x-python",
   "name": "python",
   "nbconvert_exporter": "python",
   "pygments_lexer": "ipython2",
   "version": "2.7.11"
  }
 },
 "nbformat": 4,
 "nbformat_minor": 0
}

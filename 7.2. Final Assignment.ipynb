{
 "cells": [
  {
   "cell_type": "code",
   "execution_count": 1,
   "metadata": {
    "collapsed": false
   },
   "outputs": [],
   "source": [
    "import pandas\n",
    "import numpy as np\n",
    "import scipy\n",
    "import time\n",
    "import datetime"
   ]
  },
  {
   "cell_type": "code",
   "execution_count": 54,
   "metadata": {
    "collapsed": false
   },
   "outputs": [],
   "source": [
    "data = pandas.read_csv('./data/final_features.csv', index_col='match_id')"
   ]
  },
  {
   "cell_type": "markdown",
   "metadata": {},
   "source": [
    "## Подход 1: градиентный бустинг \"в лоб\""
   ]
  },
  {
   "cell_type": "markdown",
   "metadata": {},
   "source": [
    "Удалите признаки, связанные с итогами матча (они помечены в описании данных как отсутствующие в тестовой выборке)."
   ]
  },
  {
   "cell_type": "code",
   "execution_count": 3,
   "metadata": {
    "collapsed": false
   },
   "outputs": [],
   "source": [
    "X = data.drop([\n",
    "    'radiant_win', 'duration', 'tower_status_radiant', \n",
    "    'tower_status_dire', 'barracks_status_radiant', 'barracks_status_dire'\n",
    "], axis = 1)"
   ]
  },
  {
   "cell_type": "markdown",
   "metadata": {},
   "source": [
    "#### Какие признаки имеют пропуски среди своих значений? Что могут означать пропуски в этих признаках (ответьте на этот вопрос для двух любых признаков)?"
   ]
  },
  {
   "cell_type": "code",
   "execution_count": 4,
   "metadata": {
    "collapsed": false
   },
   "outputs": [
    {
     "name": "stdout",
     "output_type": "stream",
     "text": [
      "first_blood_time               77677\n",
      "first_blood_team               77677\n",
      "first_blood_player1            77677\n",
      "first_blood_player2            53243\n",
      "radiant_bottle_time            81539\n",
      "radiant_courier_time           96538\n",
      "radiant_flying_courier_time    69751\n",
      "radiant_first_ward_time        95394\n",
      "dire_bottle_time               81087\n",
      "dire_courier_time              96554\n",
      "dire_flying_courier_time       71132\n",
      "dire_first_ward_time           95404\n",
      "dtype: int64\n"
     ]
    }
   ],
   "source": [
    "counts = X.count()\n",
    "print(counts[counts != X.shape[0]])"
   ]
  },
  {
   "cell_type": "markdown",
   "metadata": {},
   "source": [
    "Пропуски имеют признаки, отмечающие первую покупку опциональных игровых предметов, например курьера radiant_courier_time, а также отмечающие первую смерть first_blood_time. Причина - эти события просто не успели произойти."
   ]
  },
  {
   "cell_type": "markdown",
   "metadata": {},
   "source": [
    "#### Как называется столбец, содержащий целевую переменную?"
   ]
  },
  {
   "cell_type": "code",
   "execution_count": 5,
   "metadata": {
    "collapsed": true
   },
   "outputs": [],
   "source": [
    "y = data.loc[:, 'radiant_win']"
   ]
  },
  {
   "cell_type": "markdown",
   "metadata": {},
   "source": [
    "radiant_win"
   ]
  },
  {
   "cell_type": "markdown",
   "metadata": {},
   "source": [
    "#### Как долго проводилась кросс-валидация для градиентного бустинга с 30 деревьями?  Какое качество при этом получилось?"
   ]
  },
  {
   "cell_type": "code",
   "execution_count": 6,
   "metadata": {
    "collapsed": true
   },
   "outputs": [],
   "source": [
    "from sklearn.ensemble import GradientBoostingClassifier\n",
    "from sklearn.cross_validation import KFold, cross_val_score\n",
    "from sklearn.metrics import roc_auc_score, roc_curve"
   ]
  },
  {
   "cell_type": "code",
   "execution_count": 7,
   "metadata": {
    "collapsed": false
   },
   "outputs": [],
   "source": [
    "scores = []\n",
    "validator = KFold(y.size, n_folds=5, shuffle=True, random_state=1)\n",
    "X_filled = X.fillna(-1)\n",
    "for n_est in [5, 10, 20, 30, 40]:\n",
    "    start_time = datetime.datetime.now()\n",
    "    clf = GradientBoostingClassifier(n_estimators=n_est, random_state=1)\n",
    "    scores.append((\n",
    "        n_est,\n",
    "        cross_val_score(\n",
    "             clf, X_filled, y=y, cv=validator, scoring=lambda est, X, y: roc_auc_score(y, est.predict_proba(X)[:, 1])\n",
    "        ).mean(),\n",
    "        str(datetime.datetime.now() - start_time)\n",
    "    ))"
   ]
  },
  {
   "cell_type": "code",
   "execution_count": 8,
   "metadata": {
    "collapsed": false
   },
   "outputs": [
    {
     "name": "stdout",
     "output_type": "stream",
     "text": [
      "   n_est  cross_val_score            time\n",
      "0      5         0.635672  0:00:27.564635\n",
      "1     10         0.664833  0:00:44.263637\n",
      "2     20         0.682114  0:01:24.450218\n",
      "3     30         0.689695  0:01:58.060409\n",
      "4     40         0.693934  0:02:36.256619\n"
     ]
    }
   ],
   "source": [
    "scores_df = pandas.DataFrame.from_records(scores)\n",
    "scores_df.columns = ['n_est', 'cross_val_score', 'time']\n",
    "print(scores_df)"
   ]
  },
  {
   "cell_type": "markdown",
   "metadata": {},
   "source": [
    "Кросс-валидация с 30 деревьями в моем случае длилась 1,5 минуты. Качество при этом - 69%, что непохоже на переобучение."
   ]
  },
  {
   "cell_type": "markdown",
   "metadata": {},
   "source": [
    "#### Имеет ли смысл использовать больше 30 деревьев в градиентном бустинге? Что можно сделать, чтобы ускорить его обучение при увеличении количества деревьев?"
   ]
  },
  {
   "cell_type": "markdown",
   "metadata": {},
   "source": [
    "В данном случае повышать количество деревьев особого смысла не имеет - от 30 до 40 качество растет всего на 0.5%, а дальше наверняка начнет падать. Обучение - заметно дольше.\n",
    "\n",
    "Для ускорения обечения подходят методы из инструкции - брать не всю выборку, а некоторое ее случайное подмножество;  уменьшить глубину деревьев."
   ]
  },
  {
   "cell_type": "markdown",
   "metadata": {},
   "source": [
    "## Подход 2: логистическая регрессия"
   ]
  },
  {
   "cell_type": "markdown",
   "metadata": {},
   "source": [
    "#### Какое качество получилось у логистической регрессии над всеми исходными признаками? Как оно соотносится с качеством градиентного бустинга? Чем можно объяснить эту разницу? Быстрее ли работает логистическая регрессия по сравнению с градиентным бустингом?"
   ]
  },
  {
   "cell_type": "code",
   "execution_count": 9,
   "metadata": {
    "collapsed": false
   },
   "outputs": [],
   "source": [
    "from sklearn.linear_model import LogisticRegression\n",
    "from sklearn.preprocessing import StandardScaler\n",
    "from sklearn.cross_validation import KFold, cross_val_score\n",
    "from sklearn.metrics import roc_auc_score\n",
    "from sklearn.grid_search import GridSearchCV"
   ]
  },
  {
   "cell_type": "code",
   "execution_count": 18,
   "metadata": {
    "collapsed": false
   },
   "outputs": [],
   "source": [
    "scores = []\n",
    "scaler = StandardScaler()\n",
    "X_filled_scaled = scaler.fit_transform(X.fillna(0))\n",
    "validator = KFold(y.size, n_folds=5, shuffle=True, random_state=1)\n",
    "\n",
    "for C in [0.0001, 0.001, 0.01, 0.1, 0.1, 1., 10., 100.]:\n",
    "    start_time = datetime.datetime.now()\n",
    "    clf = LogisticRegression(C=C, penalty='l2', random_state=1)\n",
    "    scores.append((\n",
    "        C,\n",
    "        cross_val_score(\n",
    "             clf, X_filled_scaled, y=y, cv=validator, scoring=lambda est, X, y: roc_auc_score(y, est.predict_proba(X)[:, 1])\n",
    "        ).mean(),\n",
    "        str(datetime.datetime.now() - start_time)\n",
    "    ))"
   ]
  },
  {
   "cell_type": "code",
   "execution_count": 19,
   "metadata": {
    "collapsed": false
   },
   "outputs": [
    {
     "name": "stdout",
     "output_type": "stream",
     "text": [
      "          C  cross_val_score            time\n",
      "0    0.0001         0.711287  0:00:06.012619\n",
      "1    0.0010         0.716210  0:00:10.952714\n",
      "2    0.0100         0.716376  0:00:15.320015\n",
      "3    0.1000         0.716351  0:00:15.410833\n",
      "4    0.1000         0.716351  0:00:15.573950\n",
      "5    1.0000         0.716347  0:00:15.962781\n",
      "6   10.0000         0.716347  0:00:15.511846\n",
      "7  100.0000         0.716347  0:00:15.418847\n"
     ]
    }
   ],
   "source": [
    "scores_df = pandas.DataFrame.from_records(scores)\n",
    "scores_df.columns = ['C', 'cross_val_score', 'time']\n",
    "print(scores_df)"
   ]
  },
  {
   "cell_type": "code",
   "execution_count": 17,
   "metadata": {
    "collapsed": false
   },
   "outputs": [
    {
     "name": "stdout",
     "output_type": "stream",
     "text": [
      "Time elapsed: 0:02:35.683153\n",
      "[(1.0000000000000001e-05, 0.69517709826221419), (0.0001, 0.71128651271563847), (0.001, 0.71620963600990128), (0.01, 0.71637579485354486), (0.10000000000000001, 0.71635092675197554), (1.0, 0.7163472681900791), (10.0, 0.71634707349810633), (100.0, 0.71634707670546227), (1000.0, 0.71634708942298131), (10000.0, 0.71634710107483035), (100000.0, 0.71634710213378894)]\n"
     ]
    }
   ],
   "source": [
    "kf = KFold(y.size, n_folds=5, shuffle=True, random_state=1)\n",
    "clf = LogisticRegression(penalty='l2', random_state=1)\n",
    "grid={'C': np.power(10.0, np.arange(-5.0, 6.0))}\n",
    "gs = GridSearchCV(clf, grid, scoring = 'roc_auc', cv = kf)\n",
    "start_time = datetime.datetime.now()\n",
    "gs.fit(StandardScaler().fit_transform(X.fillna(0)), y)\n",
    "scores = []\n",
    "for scrs in gs.grid_scores_:\n",
    "    scores.append((scrs.parameters['C'], scrs.mean_validation_score))\n",
    "print 'Time elapsed:', datetime.datetime.now() - start_time\n",
    "print scores\n",
    "clf = gs.best_estimator_"
   ]
  },
  {
   "cell_type": "markdown",
   "metadata": {},
   "source": [
    "Логистическая регрессия работает быстрее, но вероятно где-то допустил ошибку, и качество всегда одинаковое - 71.63%, независимо от параметра C. Качество чуть лучше, чем при градиентном бустинге."
   ]
  },
  {
   "cell_type": "markdown",
   "metadata": {},
   "source": [
    "#### Как влияет на качество логистической регрессии удаление категориальных признаков (укажите новое значение метрики качества)? Чем можно объяснить это изменение?"
   ]
  },
  {
   "cell_type": "code",
   "execution_count": 21,
   "metadata": {
    "collapsed": false
   },
   "outputs": [],
   "source": [
    "X_ = X.drop([\n",
    "    'lobby_type',\n",
    "    'r1_hero', 'r2_hero', 'r3_hero', 'r4_hero', 'r5_hero',\n",
    "    'd1_hero', 'd2_hero', 'd3_hero', 'd4_hero', 'd5_hero'\n",
    "], axis = 1)\n",
    "scores = []\n",
    "scaler = StandardScaler()\n",
    "X_filled_scaled = scaler.fit_transform(X_.fillna(0))\n",
    "validator = KFold(y.size, n_folds=5, shuffle=True, random_state=1)\n",
    "for C in [0.01, 0.1, 0.1, 1., 10., 100.]:\n",
    "    start_time = datetime.datetime.now()\n",
    "    clf = LogisticRegression(C=C, penalty='l2', random_state=1)\n",
    "    scores.append((\n",
    "        C,\n",
    "        cross_val_score(\n",
    "             clf, X_filled_scaled, y=y, cv=validator, scoring=lambda est, X, y: roc_auc_score(y, est.predict_proba(X)[:, 1])\n",
    "        ).mean(),\n",
    "        str(datetime.datetime.now() - start_time)\n",
    "    ))"
   ]
  },
  {
   "cell_type": "code",
   "execution_count": 22,
   "metadata": {
    "collapsed": false
   },
   "outputs": [
    {
     "name": "stdout",
     "output_type": "stream",
     "text": [
      "        C  cross_val_score            time\n",
      "0    0.01         0.716409  0:00:12.782082\n",
      "1    0.10         0.716384  0:00:13.416932\n",
      "2    0.10         0.716384  0:00:13.189054\n",
      "3    1.00         0.716380  0:00:13.161176\n",
      "4   10.00         0.716380  0:00:15.110385\n",
      "5  100.00         0.716380  0:00:13.754142\n"
     ]
    }
   ],
   "source": [
    "scores_df = pandas.DataFrame.from_records(scores)\n",
    "scores_df.columns = ['C', 'cross_val_score', 'time']\n",
    "print(scores_df)"
   ]
  },
  {
   "cell_type": "markdown",
   "metadata": {},
   "source": [
    "Где-то та же ненаходимая ошибка, потом качество почти то-же: 71,64%, т.е. на 0.01% лучше."
   ]
  },
  {
   "cell_type": "markdown",
   "metadata": {},
   "source": [
    "#### Сколько различных идентификаторов героев существует в данной игре?"
   ]
  },
  {
   "cell_type": "code",
   "execution_count": 36,
   "metadata": {
    "collapsed": false
   },
   "outputs": [
    {
     "name": "stdout",
     "output_type": "stream",
     "text": [
      "112\n"
     ]
    }
   ],
   "source": [
    "N = max(data[[\n",
    "    'r1_hero', 'r2_hero', 'r3_hero', 'r4_hero', 'r5_hero',\n",
    "    'd1_hero', 'd2_hero', 'd3_hero', 'd4_hero', 'd5_hero'\n",
    "]].values.ravel())\n",
    "print(N)"
   ]
  },
  {
   "cell_type": "markdown",
   "metadata": {},
   "source": [
    "#### Какое получилось качество при добавлении \"мешка слов\" по героям? Улучшилось ли оно по сравнению с предыдущим вариантом? Чем можно это объяснить?"
   ]
  },
  {
   "cell_type": "code",
   "execution_count": 55,
   "metadata": {
    "collapsed": false
   },
   "outputs": [],
   "source": [
    "X_pick = np.zeros((data.shape[0], N))\n",
    "for i, match_id in enumerate(data.index):\n",
    "    for p in xrange(5):\n",
    "        X_pick[i, data.ix[match_id, 'r%d_hero' % (p+1)]-1] = 1\n",
    "        X_pick[i, data.ix[match_id, 'd%d_hero' % (p+1)]-1] = -1     \n",
    "X_nocat = StandardScaler().fit_transform(X.drop([\n",
    "    'lobby_type',\n",
    "    'r1_hero', 'r2_hero', 'r3_hero', 'r4_hero', 'r5_hero',\n",
    "    'd1_hero', 'd2_hero', 'd3_hero', 'd4_hero', 'd5_hero'\n",
    "], axis = 1).fillna(0))\n",
    "X_filled_scaled = pandas.concat([pandas.DataFrame(X_nocat), pandas.DataFrame(X_pick)], axis=1)"
   ]
  },
  {
   "cell_type": "code",
   "execution_count": 51,
   "metadata": {
    "collapsed": true
   },
   "outputs": [],
   "source": [
    "scores = []\n",
    "validator = KFold(y.size, n_folds=5, shuffle=True, random_state=1)\n",
    "for C in [0.01, 0.1, 0.1, 1., 10., 100.]:\n",
    "    start_time = datetime.datetime.now()\n",
    "    clf = LogisticRegression(C=C, penalty='l2', random_state=1)\n",
    "    scores.append((\n",
    "        C,\n",
    "        cross_val_score(\n",
    "             clf, X_filled_scaled, y=y, cv=validator, scoring=lambda est, X, y: roc_auc_score(y, est.predict_proba(X)[:, 1])\n",
    "        ).mean(),\n",
    "        str(datetime.datetime.now() - start_time)\n",
    "    ))"
   ]
  },
  {
   "cell_type": "code",
   "execution_count": 52,
   "metadata": {
    "collapsed": false
   },
   "outputs": [
    {
     "name": "stdout",
     "output_type": "stream",
     "text": [
      "        C  cross_val_score            time\n",
      "0    0.01         0.751652  0:00:23.335311\n",
      "1    0.10         0.751873  0:00:30.554342\n",
      "2    0.10         0.751873  0:00:28.292895\n",
      "3    1.00         0.751857  0:00:29.215879\n",
      "4   10.00         0.751856  0:00:32.147987\n",
      "5  100.00         0.751856  0:00:30.703166\n"
     ]
    }
   ],
   "source": [
    "scores_df = pandas.DataFrame.from_records(scores)\n",
    "scores_df.columns = ['C', 'cross_val_score', 'time']\n",
    "print(scores_df)"
   ]
  },
  {
   "cell_type": "markdown",
   "metadata": {},
   "source": [
    "Опять никакой разницы, и склеить датафреймы не получилось."
   ]
  },
  {
   "cell_type": "markdown",
   "metadata": {},
   "source": [
    "#### Какое минимальное и максимальное значение прогноза на тестовой выборке получилось у лучшего из алгоритмов?"
   ]
  },
  {
   "cell_type": "code",
   "execution_count": 56,
   "metadata": {
    "collapsed": false
   },
   "outputs": [
    {
     "ename": "NameError",
     "evalue": "name 'X_test' is not defined",
     "output_type": "error",
     "traceback": [
      "\u001b[0;31m---------------------------------------------------------------------------\u001b[0m",
      "\u001b[0;31mNameError\u001b[0m                                 Traceback (most recent call last)",
      "\u001b[0;32m<ipython-input-56-fd7bb750f174>\u001b[0m in \u001b[0;36m<module>\u001b[0;34m()\u001b[0m\n\u001b[1;32m      3\u001b[0m \u001b[0mX_filled_scaled\u001b[0m \u001b[0;34m=\u001b[0m \u001b[0mscaler\u001b[0m\u001b[0;34m.\u001b[0m\u001b[0mfit_transform\u001b[0m\u001b[0;34m(\u001b[0m\u001b[0mX\u001b[0m\u001b[0;34m.\u001b[0m\u001b[0mfillna\u001b[0m\u001b[0;34m(\u001b[0m\u001b[0;36m0\u001b[0m\u001b[0;34m)\u001b[0m\u001b[0;34m)\u001b[0m\u001b[0;34m\u001b[0m\u001b[0m\n\u001b[1;32m      4\u001b[0m \u001b[0mclf\u001b[0m\u001b[0;34m.\u001b[0m\u001b[0mfit\u001b[0m\u001b[0;34m(\u001b[0m\u001b[0mX_filled_scaled\u001b[0m\u001b[0;34m,\u001b[0m \u001b[0my\u001b[0m\u001b[0;34m)\u001b[0m\u001b[0;34m\u001b[0m\u001b[0m\n\u001b[0;32m----> 5\u001b[0;31m \u001b[0mpredictions\u001b[0m \u001b[0;34m=\u001b[0m \u001b[0mclf\u001b[0m\u001b[0;34m.\u001b[0m\u001b[0mpredict_proba\u001b[0m\u001b[0;34m(\u001b[0m\u001b[0mscaler\u001b[0m\u001b[0;34m.\u001b[0m\u001b[0mtransform\u001b[0m\u001b[0;34m(\u001b[0m\u001b[0mX_test\u001b[0m\u001b[0;34m)\u001b[0m\u001b[0;34m)\u001b[0m\u001b[0;34m\u001b[0m\u001b[0m\n\u001b[0m\u001b[1;32m      6\u001b[0m \u001b[0;32mprint\u001b[0m\u001b[0;34m(\u001b[0m\u001b[0mmin\u001b[0m\u001b[0;34m(\u001b[0m\u001b[0mpredictions\u001b[0m\u001b[0;34m)\u001b[0m\u001b[0;34m)\u001b[0m\u001b[0;34m\u001b[0m\u001b[0m\n\u001b[1;32m      7\u001b[0m \u001b[0;32mprint\u001b[0m\u001b[0;34m(\u001b[0m\u001b[0mmax\u001b[0m\u001b[0;34m(\u001b[0m\u001b[0mpredictions\u001b[0m\u001b[0;34m)\u001b[0m\u001b[0;34m)\u001b[0m\u001b[0;34m\u001b[0m\u001b[0m\n",
      "\u001b[0;31mNameError\u001b[0m: name 'X_test' is not defined"
     ]
    }
   ],
   "source": [
    "clf = LogisticRegression(C=.1, penalty='l2', random_state=1)\n",
    "scaler = StandardScaler()\n",
    "X_filled_scaled = scaler.fit_transform(X.fillna(0))\n",
    "clf.fit(X_filled_scaled, y)\n",
    "predictions = clf.predict_proba(scaler.transform(X_test))\n",
    "print(min(predictions))\n",
    "print(max(predictions))"
   ]
  },
  {
   "cell_type": "code",
   "execution_count": null,
   "metadata": {
    "collapsed": false
   },
   "outputs": [],
   "source": [
    "print(max(predictions[:, 0]))\n",
    "print(min(predictions[:, 0]))"
   ]
  },
  {
   "cell_type": "code",
   "execution_count": null,
   "metadata": {
    "collapsed": true
   },
   "outputs": [],
   "source": []
  }
 ],
 "metadata": {
  "kernelspec": {
   "display_name": "Python 2",
   "language": "python",
   "name": "python2"
  },
  "language_info": {
   "codemirror_mode": {
    "name": "ipython",
    "version": 2
   },
   "file_extension": ".py",
   "mimetype": "text/x-python",
   "name": "python",
   "nbconvert_exporter": "python",
   "pygments_lexer": "ipython2",
   "version": "2.7.11"
  }
 },
 "nbformat": 4,
 "nbformat_minor": 0
}

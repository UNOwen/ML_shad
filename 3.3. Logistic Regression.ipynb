{
 "cells": [
  {
   "cell_type": "code",
   "execution_count": 21,
   "metadata": {
    "collapsed": true
   },
   "outputs": [],
   "source": [
    "import pandas as pd\n",
    "import math\n",
    "from sklearn.metrics import roc_auc_score"
   ]
  },
  {
   "cell_type": "code",
   "execution_count": 57,
   "metadata": {
    "collapsed": false
   },
   "outputs": [],
   "source": [
    "data = pd.read_csv('data/data-logistic.csv', header = None)\n",
    "y =  data.loc[:, 0]\n",
    "X = data.drop(0, axis = 1)"
   ]
  },
  {
   "cell_type": "code",
   "execution_count": 61,
   "metadata": {
    "collapsed": true
   },
   "outputs": [],
   "source": [
    "def gradient_descent(X, y, C, k = 0.1, evcl_cutoff = 0.00001):\n",
    "    w = [0.0,0.0]\n",
    "    w_prev = w[:]\n",
    "    cnt = 0\n",
    "    evcl = evcl_cutoff + 1 \n",
    "    l = len(y)\n",
    "    while evcl > 0.00001 and cnt < 10000:\n",
    "        sum_ = 0.\n",
    "        s1 = 0.; s2 = 0.\n",
    "        for i in range(l):\n",
    "            part = 1 - (1 / (1 + math.exp(-1*y[i]*(w[0]*X[1][i] + w[1]*X[2][i]))))\n",
    "            s1 += y[i]*X[1][i]*part\n",
    "            s2 += y[i]*X[2][i]*part\n",
    "        w[0] += k/l*s1 - k*C*w[0]\n",
    "        w[1] += k/l*s2 - k*C*w[1]\n",
    "        evcl = math.sqrt((w[0]-w_prev[0])**2 + (w[1]-w_prev[1])**2)\n",
    "        w_prev = w[:]\n",
    "        cnt += 1\n",
    "    return cnt, w[:]"
   ]
  },
  {
   "cell_type": "code",
   "execution_count": 81,
   "metadata": {
    "collapsed": true
   },
   "outputs": [],
   "source": [
    "def sig(w, x):\n",
    "    return 1. / (1. + math.exp(-w[0] * x[1] - w[1] * x[2]))"
   ]
  },
  {
   "cell_type": "markdown",
   "metadata": {},
   "source": [
    "## No regularization"
   ]
  },
  {
   "cell_type": "code",
   "execution_count": 105,
   "metadata": {
    "collapsed": false
   },
   "outputs": [
    {
     "name": "stdout",
     "output_type": "stream",
     "text": [
      "(244, [0.28781162047177639, 0.09198330215925439])\n"
     ]
    }
   ],
   "source": [
    "noreg_cnt, noreg_w = gradient_descent(X, y, C = 0.)\n",
    "print(noreg_cnt, noreg_w)"
   ]
  },
  {
   "cell_type": "code",
   "execution_count": 101,
   "metadata": {
    "collapsed": false
   },
   "outputs": [
    {
     "data": {
      "text/plain": [
       "0.92685714285714282"
      ]
     },
     "execution_count": 101,
     "metadata": {},
     "output_type": "execute_result"
    }
   ],
   "source": [
    "y_score = X.apply(lambda x: sig(noreg_w, x), axis = 1)\n",
    "y_true = y.apply(lambda y: (y == 1) and 1 or 0)\n",
    "roc_auc_score(y_true, y_score)"
   ]
  },
  {
   "cell_type": "markdown",
   "metadata": {},
   "source": [
    "## With regularization"
   ]
  },
  {
   "cell_type": "code",
   "execution_count": 113,
   "metadata": {
    "collapsed": false
   },
   "outputs": [
    {
     "name": "stdout",
     "output_type": "stream",
     "text": [
      "(8, [0.028558754546234223, 0.024780137249735563])\n"
     ]
    }
   ],
   "source": [
    "reg_cnt, reg_w = gradient_descent(X, y, C = 10., k = 0.1)\n",
    "print(reg_cnt, reg_w)"
   ]
  },
  {
   "cell_type": "code",
   "execution_count": 104,
   "metadata": {
    "collapsed": false
   },
   "outputs": [
    {
     "data": {
      "text/plain": [
       "0.93628571428571417"
      ]
     },
     "execution_count": 104,
     "metadata": {},
     "output_type": "execute_result"
    }
   ],
   "source": [
    "y_score = X.apply(lambda x: sig(reg_w, x), axis = 1)\n",
    "y_true = y.apply(lambda y: (y == 1) and 1 or 0)\n",
    "roc_auc_score(y_true, y_score)"
   ]
  }
 ],
 "metadata": {
  "kernelspec": {
   "display_name": "Python 2",
   "language": "python",
   "name": "python2"
  },
  "language_info": {
   "codemirror_mode": {
    "name": "ipython",
    "version": 2
   },
   "file_extension": ".py",
   "mimetype": "text/x-python",
   "name": "python",
   "nbconvert_exporter": "python",
   "pygments_lexer": "ipython2",
   "version": "2.7.11"
  }
 },
 "nbformat": 4,
 "nbformat_minor": 0
}

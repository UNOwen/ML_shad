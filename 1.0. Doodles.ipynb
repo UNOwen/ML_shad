{
 "cells": [
  {
   "cell_type": "code",
   "execution_count": 24,
   "metadata": {
    "collapsed": false
   },
   "outputs": [
    {
     "name": "stdout",
     "output_type": "stream",
     "text": [
      "Populating the interactive namespace from numpy and matplotlib\n"
     ]
    }
   ],
   "source": [
    "%pylab inline"
   ]
  },
  {
   "cell_type": "code",
   "execution_count": 2,
   "metadata": {
    "collapsed": true
   },
   "outputs": [],
   "source": [
    "import numpy as np"
   ]
  },
  {
   "cell_type": "code",
   "execution_count": 26,
   "metadata": {
    "collapsed": false
   },
   "outputs": [
    {
     "data": {
      "text/plain": [
       "array([ 1.,  4.,  9.])"
      ]
     },
     "execution_count": 26,
     "metadata": {},
     "output_type": "execute_result"
    }
   ],
   "source": [
    "np.array([1.0, 2.0, 3.0]) * np.array([1.0, 2.0, 3.0])"
   ]
  },
  {
   "cell_type": "code",
   "execution_count": 27,
   "metadata": {
    "collapsed": false
   },
   "outputs": [
    {
     "data": {
      "text/plain": [
       "array([[ 1.,  2.],\n",
       "       [ 3.,  4.]])"
      ]
     },
     "execution_count": 27,
     "metadata": {},
     "output_type": "execute_result"
    }
   ],
   "source": [
    "np.array([1.0, 2.0, 3.0, 4.0]).reshape(2, 2)"
   ]
  },
  {
   "cell_type": "code",
   "execution_count": 28,
   "metadata": {
    "collapsed": false
   },
   "outputs": [],
   "source": [
    "y = np.array([(1, 2.0, 'Hello'), (2, 3.0, 'World')],\n",
    "     dtype=[('foo', '>i4'), ('bar', '>f4'), ('baz', '|S10')])"
   ]
  },
  {
   "cell_type": "code",
   "execution_count": 29,
   "metadata": {
    "collapsed": false
   },
   "outputs": [
    {
     "data": {
      "text/plain": [
       "dtype('>i4')"
      ]
     },
     "execution_count": 29,
     "metadata": {},
     "output_type": "execute_result"
    }
   ],
   "source": [
    "y['foo'].dtype"
   ]
  },
  {
   "cell_type": "markdown",
   "metadata": {},
   "source": [
    "## Task 1"
   ]
  },
  {
   "cell_type": "code",
   "execution_count": 71,
   "metadata": {
    "collapsed": false
   },
   "outputs": [
    {
     "data": {
      "text/plain": [
       "array([[  2.86698572,   6.16332467, -17.2296932 , ...,  -2.10810257,\n",
       "         10.0117795 ,   5.41768219],\n",
       "       [ -9.30019029, -12.15779564,  -6.7308473 , ...,  15.69298093,\n",
       "         -3.79741527,  10.40175041],\n",
       "       [ 10.34470808,   2.59941276,   6.39365258, ...,  -9.6399362 ,\n",
       "        -11.63095292, -12.2699102 ],\n",
       "       ..., \n",
       "       [ 18.6076343 ,   9.89792173,  -4.13898181, ..., -12.9671304 ,\n",
       "          3.8415555 ,   9.85177528],\n",
       "       [ 10.15382536,  -9.85992916,   3.76331105, ...,   4.53919921,\n",
       "         -1.98359583,  -3.28820261],\n",
       "       [ -3.2751666 ,  -0.24858777, -19.0114366 , ...,   7.24406799,\n",
       "          8.26556603,  14.805481  ]])"
      ]
     },
     "execution_count": 71,
     "metadata": {},
     "output_type": "execute_result"
    }
   ],
   "source": [
    "X = np.random.normal(loc = 1, scale = 10, size = (1000, 50))\n",
    "X"
   ]
  },
  {
   "cell_type": "code",
   "execution_count": 85,
   "metadata": {
    "collapsed": false
   },
   "outputs": [
    {
     "data": {
      "text/plain": [
       "array([[ 0.13750257,  0.49404236, -1.86200964, ..., -0.38377187,\n",
       "         0.92269005,  0.47409543],\n",
       "       [-1.07514166, -1.35403107, -0.81906209, ...,  1.42857031,\n",
       "        -0.46562798,  0.96820439],\n",
       "       [ 0.88277138,  0.13454628,  0.48471598, ..., -1.15059372,\n",
       "        -1.25317872, -1.27941143],\n",
       "       ..., \n",
       "       [ 1.70629771,  0.87075566, -0.56158809, ..., -1.48933795,\n",
       "         0.30236183,  0.91368114],\n",
       "       [ 0.86374702, -1.12224252,  0.22341981, ...,  0.29299511,\n",
       "        -0.28327425, -0.38898578],\n",
       "       [-0.47465637, -0.15273496, -2.0390067 , ...,  0.5683799 ,\n",
       "         0.74713314,  1.40478003]])"
      ]
     },
     "execution_count": 85,
     "metadata": {},
     "output_type": "execute_result"
    }
   ],
   "source": [
    "X_col_means = mean(X, axis = 0)\n",
    "X_col_dev = std(X, axis = 0)\n",
    "X_norm = ((X - X_col_means)  / X_col_dev)\n",
    "X_norm"
   ]
  },
  {
   "cell_type": "markdown",
   "metadata": {},
   "source": [
    "## Task 2"
   ]
  },
  {
   "cell_type": "code",
   "execution_count": 3,
   "metadata": {
    "collapsed": false
   },
   "outputs": [],
   "source": [
    "Z = np.array([[4, 5, 0], \n",
    "             [1, 9, 3],              \n",
    "             [5, 1, 1],\n",
    "             [3, 3, 3], \n",
    "             [9, 9, 9], \n",
    "             [4, 7, 1]])"
   ]
  },
  {
   "cell_type": "code",
   "execution_count": 11,
   "metadata": {
    "collapsed": false
   },
   "outputs": [
    {
     "data": {
      "text/plain": [
       "(array([1, 4, 5]),)"
      ]
     },
     "execution_count": 11,
     "metadata": {},
     "output_type": "execute_result"
    }
   ],
   "source": [
    "row_sums = np.sum(Z, axis = 1)\n",
    "np.nonzero(row_sums > 10)"
   ]
  },
  {
   "cell_type": "markdown",
   "metadata": {},
   "source": [
    "## Task 3"
   ]
  },
  {
   "cell_type": "code",
   "execution_count": 15,
   "metadata": {
    "collapsed": false
   },
   "outputs": [
    {
     "data": {
      "text/plain": [
       "array([[ 1.,  0.,  0.],\n",
       "       [ 0.,  1.,  0.],\n",
       "       [ 0.,  0.,  1.],\n",
       "       [ 1.,  0.,  0.],\n",
       "       [ 0.,  1.,  0.],\n",
       "       [ 0.,  0.,  1.]])"
      ]
     },
     "execution_count": 15,
     "metadata": {},
     "output_type": "execute_result"
    }
   ],
   "source": [
    "np.vstack((np.eye(3), np.eye(3)))"
   ]
  },
  {
   "cell_type": "code",
   "execution_count": null,
   "metadata": {
    "collapsed": true
   },
   "outputs": [],
   "source": []
  }
 ],
 "metadata": {
  "kernelspec": {
   "display_name": "Python 2",
   "language": "python",
   "name": "python2"
  },
  "language_info": {
   "codemirror_mode": {
    "name": "ipython",
    "version": 2
   },
   "file_extension": ".py",
   "mimetype": "text/x-python",
   "name": "python",
   "nbconvert_exporter": "python",
   "pygments_lexer": "ipython2",
   "version": "2.7.11"
  }
 },
 "nbformat": 4,
 "nbformat_minor": 0
}
